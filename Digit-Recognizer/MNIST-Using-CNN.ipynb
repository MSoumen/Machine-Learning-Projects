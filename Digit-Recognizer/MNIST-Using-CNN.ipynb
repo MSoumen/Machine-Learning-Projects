{
 "cells": [
  {
   "cell_type": "code",
   "execution_count": 19,
   "metadata": {},
   "outputs": [],
   "source": [
    "from scipy.io import loadmat\n",
    "import tensorflow as tf\n",
    "import numpy as np\n",
    "import matplotlib.pyplot as plt"
   ]
  },
  {
   "cell_type": "markdown",
   "metadata": {},
   "source": [
    "># Loading The Data"
   ]
  },
  {
   "cell_type": "code",
   "execution_count": 1,
   "metadata": {},
   "outputs": [
    {
     "name": "stdout",
     "output_type": "stream",
     "text": [
      "{'__header__': b'MATLAB 5.0 MAT-file Platform: posix, Created on: Sun Mar 30 03:19:02 2014', '__version__': '1.0', '__globals__': [], 'mldata_descr_ordering': array([[array(['label'], dtype='<U5'), array(['data'], dtype='<U4')]],\n",
      "      dtype=object), 'data': array([[0, 0, 0, ..., 0, 0, 0],\n",
      "       [0, 0, 0, ..., 0, 0, 0],\n",
      "       [0, 0, 0, ..., 0, 0, 0],\n",
      "       ...,\n",
      "       [0, 0, 0, ..., 0, 0, 0],\n",
      "       [0, 0, 0, ..., 0, 0, 0],\n",
      "       [0, 0, 0, ..., 0, 0, 0]], dtype=uint8), 'label': array([[0., 0., 0., ..., 9., 9., 9.]])}\n",
      "Original shape of data and Label in MNIST : (784, 70000) (1, 70000)\n"
     ]
    }
   ],
   "source": [
    "mnist = loadmat('D:/MachineLearning/datasets/mnist-original.mat')\n",
    "print(mnist)\n",
    "\n",
    "X_org = mnist['data']\n",
    "y = mnist['label']\n",
    "print('Original shape of data and Label in MNIST :',X_org.shape, y.shape)"
   ]
  },
  {
   "cell_type": "code",
   "execution_count": 2,
   "metadata": {},
   "outputs": [
    {
     "name": "stdout",
     "output_type": "stream",
     "text": [
      "Training data shape : (56000, 784) (56000, 1)\n",
      "Validation data shape : (11200, 784) (11200, 1)\n",
      "Testing data shape : (2800, 784) (2800, 1)\n"
     ]
    }
   ],
   "source": [
    "from sklearn.model_selection import train_test_split\n",
    "\n",
    "X_train, X_val, y_train, y_val = train_test_split(X_org.T, y.T, test_size=0.2, random_state=42)\n",
    "X_val, X_test, y_val, y_test = train_test_split(X_val,y_val, test_size=0.2, random_state=42)\n",
    "print('Training data shape :',X_train.shape, y_train.shape)\n",
    "print('Validation data shape :',X_val.shape, y_val.shape)\n",
    "print('Testing data shape :',X_test.shape, y_test.shape)"
   ]
  },
  {
   "cell_type": "code",
   "execution_count": 20,
   "metadata": {},
   "outputs": [
    {
     "name": "stdout",
     "output_type": "stream",
     "text": [
      "Shape of X_train_img and X_val_img : (56000, 28, 28, 1) (11200, 28, 28, 1)\n",
      "Shape of y_train and y_validation after converted in 1-Hot-Encoding : (56000, 10) (11200, 10)\n"
     ]
    }
   ],
   "source": [
    "X_train_img = X_train.reshape(-1, 28,28,1)\n",
    "X_val_img = X_val.reshape(-1,28,28,1)\n",
    "print('Shape of X_train_img and X_val_img :', X_train_img.shape, X_val_img.shape)\n",
    "\n",
    "y_train_hot = tf.keras.utils.to_categorical(y_train)\n",
    "y_val_hot = tf.keras.utils.to_categorical(y_val)\n",
    "print('Shape of y_train and y_validation after converted in 1-Hot-Encoding :', y_train_hot.shape, y_val_hot.shape)"
   ]
  },
  {
   "cell_type": "markdown",
   "metadata": {},
   "source": [
    "># Showing The Data"
   ]
  },
  {
   "cell_type": "code",
   "execution_count": 10,
   "metadata": {},
   "outputs": [],
   "source": [
    "# plt.rcParams.keys() # Gives the list of all the keys that can be edited"
   ]
  },
  {
   "cell_type": "code",
   "execution_count": 23,
   "metadata": {},
   "outputs": [
    {
     "data": {
      "image/png": "[encoded data removed]",
      "text/plain": [
       "<Figure size 360x288 with 1 Axes>"
      ]
     },
     "metadata": {
      "needs_background": "light"
     },
     "output_type": "display_data"
    }
   ],
   "source": [
    "# Plotting constent\n",
    "plt.rcParams['figure.figsize'] = (5.0,4.0)\n",
    "plt.rcParams['image.cmap'] = 'binary'\n",
    "\n",
    "idx=0\n",
    "plt.title('Training images of index {}'.format(idx))\n",
    "plt.imshow(X_train[idx].reshape(28,28))\n",
    "plt.axis('off')\n",
    "plt.show()"
   ]
  },
  {
   "cell_type": "markdown",
   "metadata": {},
   "source": [
    "># Augmenting The Images"
   ]
  },
  {
   "cell_type": "code",
   "execution_count": 5,
   "metadata": {},
   "outputs": [],
   "source": [
    "def add_noise(img_array):\n",
    "    var=50\n",
    "    deviation = var*np.random.random()\n",
    "    noise = np.random.normal(0, deviation, img_array.shape)\n",
    "    img_array += noise\n",
    "    \n",
    "    return np.clip(img_array, 0.0,255.0)"
   ]
  },
  {
   "cell_type": "code",
   "execution_count": 21,
   "metadata": {},
   "outputs": [],
   "source": [
    "from tensorflow.keras.preprocessing.image import ImageDataGenerator\n",
    "\n",
    "train_datagen= ImageDataGenerator(\n",
    "rescale=1./255,\n",
    "rotation_range=20,\n",
    "zoom_range=0.2,\n",
    "shear_range=0.2,\n",
    "preprocessing_function=add_noise,\n",
    "fill_mode='nearest')\n",
    "\n",
    "training_generator= train_datagen.flow(X_train_img, y_train_hot, batch_size=32)\n",
    "\n",
    "val_datagen= ImageDataGenerator(rescale=1./255)\n",
    "validation_generator= val_datagen.flow(X_val_img, y_val_hot, batch_size=32)"
   ]
  },
  {
   "cell_type": "code",
   "execution_count": 24,
   "metadata": {},
   "outputs": [
    {
     "data": {
      "image/png": "[encoded data removed]",
      "text/plain": [
       "<Figure size 360x288 with 4 Axes>"
      ]
     },
     "metadata": {
      "needs_background": "light"
     },
     "output_type": "display_data"
    }
   ],
   "source": [
    "# how ImageDataGenerator produce  images\n",
    "images=[]\n",
    "for batch in train_datagen.flow(X_train_img,batch_size=2):\n",
    "    images.append( batch[0].reshape(28,28)) \n",
    "    if len(images) >= 10:\n",
    "        break\n",
    "\n",
    "# Display\n",
    "f, xyarr = plt.subplots(2,2)\n",
    "xyarr[0,0].imshow(images[0])\n",
    "xyarr[0,0].axis('off')\n",
    "xyarr[0,1].imshow(images[1])\n",
    "xyarr[0,1].axis('off')\n",
    "xyarr[1,0].imshow(images[2])\n",
    "xyarr[1,0].axis('off')\n",
    "xyarr[1,1].imshow(images[3])\n",
    "plt.axis('off')\n",
    "plt.show()"
   ]
  },
  {
   "cell_type": "markdown",
   "metadata": {},
   "source": [
    "># Part 4: Making the Model"
   ]
  },
  {
   "cell_type": "code",
   "execution_count": 89,
   "metadata": {
    "collapsed": true
   },
   "outputs": [
    {
     "name": "stdout",
     "output_type": "stream",
     "text": [
      "Model: \"sequential_18\"\n",
      "_________________________________________________________________\n",
      "Layer (type)                 Output Shape              Param #   \n",
      "=================================================================\n",
      "conv2d_53 (Conv2D)           (None, 26, 26, 32)        320       \n",
      "_________________________________________________________________\n",
      "max_pooling2d_40 (MaxPooling (None, 13, 13, 32)        0         \n",
      "_________________________________________________________________\n",
      "conv2d_54 (Conv2D)           (None, 11, 11, 64)        18496     \n",
      "_________________________________________________________________\n",
      "max_pooling2d_41 (MaxPooling (None, 5, 5, 64)          0         \n",
      "_________________________________________________________________\n",
      "conv2d_55 (Conv2D)           (None, 4, 4, 64)          16448     \n",
      "_________________________________________________________________\n",
      "dropout_40 (Dropout)         (None, 4, 4, 64)          0         \n",
      "_________________________________________________________________\n",
      "batch_normalization_99 (Batc (None, 4, 4, 64)          256       \n",
      "_________________________________________________________________\n",
      "flatten_19 (Flatten)         (None, 1024)              0         \n",
      "_________________________________________________________________\n",
      "dense_125 (Dense)            (None, 512)               524800    \n",
      "_________________________________________________________________\n",
      "batch_normalization_100 (Bat (None, 512)               2048      \n",
      "_________________________________________________________________\n",
      "dropout_41 (Dropout)         (None, 512)               0         \n",
      "_________________________________________________________________\n",
      "dense_126 (Dense)            (None, 256)               131328    \n",
      "_________________________________________________________________\n",
      "batch_normalization_101 (Bat (None, 256)               1024      \n",
      "_________________________________________________________________\n",
      "dropout_42 (Dropout)         (None, 256)               0         \n",
      "_________________________________________________________________\n",
      "dense_127 (Dense)            (None, 128)               32896     \n",
      "_________________________________________________________________\n",
      "batch_normalization_102 (Bat (None, 128)               512       \n",
      "_________________________________________________________________\n",
      "dropout_43 (Dropout)         (None, 128)               0         \n",
      "_________________________________________________________________\n",
      "dense_128 (Dense)            (None, 64)                8256      \n",
      "_________________________________________________________________\n",
      "batch_normalization_103 (Bat (None, 64)                256       \n",
      "_________________________________________________________________\n",
      "dense_129 (Dense)            (None, 64)                4160      \n",
      "_________________________________________________________________\n",
      "batch_normalization_104 (Bat (None, 64)                256       \n",
      "_________________________________________________________________\n",
      "dense_130 (Dense)            (None, 64)                4160      \n",
      "_________________________________________________________________\n",
      "batch_normalization_105 (Bat (None, 64)                256       \n",
      "_________________________________________________________________\n",
      "dense_131 (Dense)            (None, 10)                650       \n",
      "=================================================================\n",
      "Total params: 746,122\n",
      "Trainable params: 743,818\n",
      "Non-trainable params: 2,304\n",
      "_________________________________________________________________\n"
     ]
    }
   ],
   "source": [
    "# Model\n",
    "model = tf.keras.Sequential([\n",
    "    tf.keras.layers.Conv2D(32,(3,3), input_shape=(28,28,1)),\n",
    "    tf.keras.layers.MaxPooling2D(),\n",
    "    tf.keras.layers.Conv2D(64,(3,3)),\n",
    "    tf.keras.layers.MaxPooling2D(),\n",
    "    tf.keras.layers.Conv2D(64,(2,2)),\n",
    "    tf.keras.layers.Dropout(0.8),\n",
    "    tf.keras.layers.BatchNormalization(),\n",
    "    tf.keras.layers.Flatten(),\n",
    "    \n",
    "    tf.keras.layers.Dense(512, activation='relu'),\n",
    "    tf.keras.layers.BatchNormalization(),\n",
    "    tf.keras.layers.Dropout(0.7),\n",
    "    tf.keras.layers.Dense(256, activation='relu'),\n",
    "    tf.keras.layers.BatchNormalization(),\n",
    "    tf.keras.layers.Dropout(0.6),\n",
    "    tf.keras.layers.Dense(128, activation='relu'),\n",
    "    tf.keras.layers.BatchNormalization(),\n",
    "    tf.keras.layers.Dropout(0.5),\n",
    "    tf.keras.layers.Dense(64, activation='relu'),\n",
    "    tf.keras.layers.BatchNormalization(),\n",
    "    tf.keras.layers.Dense(64, activation='relu'),\n",
    "    tf.keras.layers.BatchNormalization(),\n",
    "    tf.keras.layers.Dense(64, activation='relu'),\n",
    "    tf.keras.layers.BatchNormalization(),\n",
    "    \n",
    "    tf.keras.layers.Dense(10, activation='softmax')\n",
    "])\n",
    "model.compile(loss=tf.keras.losses.categorical_crossentropy, #'sparse_categorical_crossentropy',\n",
    "             optimizer= 'adam', # tf.keras.optimizers.Adam(),\n",
    "             metrics=['accuracy'])\n",
    "model.summary()"
   ]
  },
  {
   "cell_type": "code",
   "execution_count": 93,
   "metadata": {},
   "outputs": [],
   "source": [
    "# custom callback for controlling over training\n",
    "class myCallBacks(tf.keras.callbacks.Callback):\n",
    "    def on_epoch_end(self, epoch, logs={}):\n",
    "        if(logs.get('val_accuracy')>=0.99):\n",
    "            self.model.stop_training = True\n",
    "            print('\\nTraining stopped due to 99% accuracy reach !')\n",
    "\n",
    "cb = myCallBacks()\n",
    "\n",
    "# EarlyStopping to see if the val_accuracy is increasing or not, if not then stopped training\n",
    "early_stopping = tf.keras.callbacks.EarlyStopping(monitor='val_accuracy',\n",
    "                                                 patience=5,\n",
    "                                                 mode='max',\n",
    "                                                 verbose=1)\n",
    "\n",
    "# ModelCheckpoint to save the model only when val_accu is increased\n",
    "model_checkpoint = tf.keras.callbacks.ModelCheckpoint('deep_mnist.h5',\n",
    "                                                      monitor='val_accuracy',\n",
    "                                                      mode='max',\n",
    "                                                      save_best_only=True,\n",
    "                                                      verbose=1)\n",
    "\n",
    "def plot_loss():\n",
    "    plt.plot(history.history['loss'],label='training loss')\n",
    "    plt.plot(history.history['val_loss'], label='validation loss')\n",
    "    plt.xlabel('epochs')\n",
    "    plt.legend()\n",
    "    plt.show()\n",
    "    \n",
    "def plot_accu():\n",
    "    plt.plot(history.history['accuracy'],label='training accuracy')\n",
    "    plt.plot(history.history['val_accuracy'], label='validation accuracy')\n",
    "    plt.xlabel('epochs')\n",
    "    plt.legend()\n",
    "    plt.show()"
   ]
  },
  {
   "cell_type": "code",
   "execution_count": 99,
   "metadata": {
    "collapsed": true
   },
   "outputs": [
    {
     "name": "stdout",
     "output_type": "stream",
     "text": [
      "Epoch 1/100\n",
      "1750/1750 [==============================] - ETA: 0s - loss: 0.1732 - accuracy: 0.9516\n",
      "Epoch 00001: val_accuracy improved from -inf to 0.98973, saving model to deep_mnist.h5\n",
      "1750/1750 [==============================] - 34s 19ms/step - loss: 0.1732 - accuracy: 0.9516 - val_loss: 0.0391 - val_accuracy: 0.9897\n",
      "Epoch 2/100\n",
      "1750/1750 [==============================] - ETA: 0s - loss: 0.1721 - accuracy: 0.9507\n",
      "Epoch 00002: val_accuracy improved from 0.98973 to 0.99018, saving model to deep_mnist.h5\n",
      "1750/1750 [==============================] - 36s 21ms/step - loss: 0.1721 - accuracy: 0.9507 - val_loss: 0.0364 - val_accuracy: 0.9902\n",
      "Epoch 3/100\n",
      "1748/1750 [============================>.] - ETA: 0s - loss: 0.1738 - accuracy: 0.9511\n",
      "Epoch 00003: val_accuracy did not improve from 0.99018\n",
      "1750/1750 [==============================] - 34s 19ms/step - loss: 0.1738 - accuracy: 0.9511 - val_loss: 0.0380 - val_accuracy: 0.9900\n",
      "Epoch 4/100\n",
      "1749/1750 [============================>.] - ETA: 0s - loss: 0.1685 - accuracy: 0.9534\n",
      "Epoch 00004: val_accuracy did not improve from 0.99018\n",
      "1750/1750 [==============================] - 34s 20ms/step - loss: 0.1686 - accuracy: 0.9533 - val_loss: 0.0378 - val_accuracy: 0.9897\n",
      "Epoch 5/100\n",
      "1750/1750 [==============================] - ETA: 0s - loss: 0.1590 - accuracy: 0.9544\n",
      "Epoch 00005: val_accuracy improved from 0.99018 to 0.99125, saving model to deep_mnist.h5\n",
      "1750/1750 [==============================] - 34s 20ms/step - loss: 0.1590 - accuracy: 0.9544 - val_loss: 0.0354 - val_accuracy: 0.9912\n",
      "Epoch 6/100\n",
      "1749/1750 [============================>.] - ETA: 0s - loss: 0.1558 - accuracy: 0.9561\n",
      "Epoch 00006: val_accuracy did not improve from 0.99125\n",
      "1750/1750 [==============================] - 35s 20ms/step - loss: 0.1559 - accuracy: 0.9561 - val_loss: 0.0360 - val_accuracy: 0.9902\n",
      "Epoch 7/100\n",
      "1749/1750 [============================>.] - ETA: 0s - loss: 0.1601 - accuracy: 0.9544\n",
      "Epoch 00007: val_accuracy did not improve from 0.99125\n",
      "1750/1750 [==============================] - 35s 20ms/step - loss: 0.1602 - accuracy: 0.9544 - val_loss: 0.0331 - val_accuracy: 0.9909\n",
      "Epoch 8/100\n",
      "1750/1750 [==============================] - ETA: 0s - loss: 0.1574 - accuracy: 0.9563\n",
      "Epoch 00008: val_accuracy improved from 0.99125 to 0.99152, saving model to deep_mnist.h5\n",
      "1750/1750 [==============================] - 35s 20ms/step - loss: 0.1574 - accuracy: 0.9563 - val_loss: 0.0331 - val_accuracy: 0.9915\n",
      "Epoch 9/100\n",
      "1750/1750 [==============================] - ETA: 0s - loss: 0.1589 - accuracy: 0.9546\n",
      "Epoch 00009: val_accuracy did not improve from 0.99152\n",
      "1750/1750 [==============================] - 36s 20ms/step - loss: 0.1589 - accuracy: 0.9546 - val_loss: 0.0339 - val_accuracy: 0.9907\n",
      "Epoch 10/100\n",
      "1749/1750 [============================>.] - ETA: 0s - loss: 0.1528 - accuracy: 0.9572\n",
      "Epoch 00010: val_accuracy did not improve from 0.99152\n",
      "1750/1750 [==============================] - 35s 20ms/step - loss: 0.1528 - accuracy: 0.9572 - val_loss: 0.0357 - val_accuracy: 0.9906\n",
      "Epoch 11/100\n",
      "1750/1750 [==============================] - ETA: 0s - loss: 0.1513 - accuracy: 0.9572\n",
      "Epoch 00011: val_accuracy improved from 0.99152 to 0.99161, saving model to deep_mnist.h5\n",
      "1750/1750 [==============================] - 35s 20ms/step - loss: 0.1513 - accuracy: 0.9572 - val_loss: 0.0322 - val_accuracy: 0.9916\n",
      "Epoch 12/100\n",
      "1748/1750 [============================>.] - ETA: 0s - loss: 0.1520 - accuracy: 0.9573\n",
      "Epoch 00012: val_accuracy did not improve from 0.99161\n",
      "1750/1750 [==============================] - 35s 20ms/step - loss: 0.1519 - accuracy: 0.9573 - val_loss: 0.0343 - val_accuracy: 0.9907\n",
      "Epoch 13/100\n",
      "1750/1750 [==============================] - ETA: 0s - loss: 0.1483 - accuracy: 0.9582\n",
      "Epoch 00013: val_accuracy did not improve from 0.99161\n",
      "1750/1750 [==============================] - 34s 19ms/step - loss: 0.1483 - accuracy: 0.9582 - val_loss: 0.0348 - val_accuracy: 0.9913\n",
      "Epoch 14/100\n",
      "1748/1750 [============================>.] - ETA: 0s - loss: 0.1498 - accuracy: 0.9581\n",
      "Epoch 00014: val_accuracy did not improve from 0.99161\n",
      "1750/1750 [==============================] - 34s 19ms/step - loss: 0.1498 - accuracy: 0.9581 - val_loss: 0.0340 - val_accuracy: 0.9911\n",
      "Epoch 15/100\n",
      "1750/1750 [==============================] - ETA: 0s - loss: 0.1490 - accuracy: 0.9582\n",
      "Epoch 00015: val_accuracy did not improve from 0.99161\n",
      "1750/1750 [==============================] - 33s 19ms/step - loss: 0.1490 - accuracy: 0.9582 - val_loss: 0.0329 - val_accuracy: 0.9911\n",
      "Epoch 16/100\n",
      "1750/1750 [==============================] - ETA: 0s - loss: 0.1432 - accuracy: 0.9591\n",
      "Epoch 00016: val_accuracy did not improve from 0.99161\n",
      "1750/1750 [==============================] - 33s 19ms/step - loss: 0.1432 - accuracy: 0.9591 - val_loss: 0.0333 - val_accuracy: 0.9911\n",
      "Epoch 00016: early stopping\n"
     ]
    },
    {
     "data": {
      "image/png": "[encoded data removed]",
      "text/plain": [
       "<Figure size 432x288 with 1 Axes>"
      ]
     },
     "metadata": {
      "needs_background": "light"
     },
     "output_type": "display_data"
    },
    {
     "data": {
      "image/png": "[encoded data removed]",
      "text/plain": [
       "<Figure size 432x288 with 1 Axes>"
      ]
     },
     "metadata": {
      "needs_background": "light"
     },
     "output_type": "display_data"
    }
   ],
   "source": [
    "history = model.fit(training_generator, \n",
    "                    steps_per_epoch=56000//32,\n",
    "                    epochs=100,\n",
    "                    validation_data= validation_generator,\n",
    "                    validation_steps=11200//32,\n",
    "                    #callbacks=[early_stopping, cb] #1st use callback to stop at 99% val_accu\n",
    "                    callbacks=[early_stopping, model_checkpoint]\n",
    ")\n",
    "plot_accu()\n",
    "plot_loss()"
   ]
  },
  {
   "cell_type": "code",
   "execution_count": 6,
   "metadata": {
    "collapsed": true
   },
   "outputs": [
    {
     "data": {
      "text/plain": [
       "[<tensorflow.python.keras.layers.convolutional.Conv2D at 0x1a9a7d40fa0>,\n",
       " <tensorflow.python.keras.layers.pooling.MaxPooling2D at 0x1a9a7d839a0>,\n",
       " <tensorflow.python.keras.layers.convolutional.Conv2D at 0x1a9a7dc87c0>,\n",
       " <tensorflow.python.keras.layers.pooling.MaxPooling2D at 0x1a9ffbce790>,\n",
       " <tensorflow.python.keras.layers.convolutional.Conv2D at 0x1a9a7df37c0>,\n",
       " <tensorflow.python.keras.layers.core.Dropout at 0x1a9a7dfb7c0>,\n",
       " <tensorflow.python.keras.layers.normalization_v2.BatchNormalization at 0x1a9a7d59eb0>,\n",
       " <tensorflow.python.keras.layers.core.Flatten at 0x1a9a7e590d0>,\n",
       " <tensorflow.python.keras.layers.core.Dense at 0x1a9a7edf940>,\n",
       " <tensorflow.python.keras.layers.normalization_v2.BatchNormalization at 0x1a9a7edfb50>,\n",
       " <tensorflow.python.keras.layers.core.Dropout at 0x1a9a7f32fd0>,\n",
       " <tensorflow.python.keras.layers.core.Dense at 0x1a9a7f3a760>,\n",
       " <tensorflow.python.keras.layers.normalization_v2.BatchNormalization at 0x1a9a7f5fc40>,\n",
       " <tensorflow.python.keras.layers.core.Dropout at 0x1a9a7f65e80>,\n",
       " <tensorflow.python.keras.layers.core.Dense at 0x1a9af08ec10>,\n",
       " <tensorflow.python.keras.layers.normalization_v2.BatchNormalization at 0x1a9af0b09d0>,\n",
       " <tensorflow.python.keras.layers.core.Dropout at 0x1a9af0b8e50>,\n",
       " <tensorflow.python.keras.layers.core.Dense at 0x1a9a7cc8070>,\n",
       " <tensorflow.python.keras.layers.normalization_v2.BatchNormalization at 0x1a9a75b3b50>,\n",
       " <tensorflow.python.keras.layers.core.Dense at 0x1a9a75d97f0>,\n",
       " <tensorflow.python.keras.layers.normalization_v2.BatchNormalization at 0x1a9af1425b0>,\n",
       " <tensorflow.python.keras.layers.core.Dense at 0x1a9af14b9a0>,\n",
       " <tensorflow.python.keras.layers.normalization_v2.BatchNormalization at 0x1a9af181190>,\n",
       " <tensorflow.python.keras.layers.core.Dense at 0x1a9af195790>]"
      ]
     },
     "execution_count": 6,
     "metadata": {},
     "output_type": "execute_result"
    }
   ],
   "source": [
    "# Loading the saved model from disk\n",
    "saved_model= tf.keras.models.load_model('deep_mnist.h5')\n",
    "\n",
    "saved_model.layers #checking the model"
   ]
  },
  {
   "cell_type": "code",
   "execution_count": 160,
   "metadata": {},
   "outputs": [
    {
     "name": "stdout",
     "output_type": "stream",
     "text": [
      "88/88 [==============================] - 0s 5ms/step - loss: 0.0316 - accuracy: 0.9900\n"
     ]
    },
    {
     "data": {
      "text/plain": [
       "[0.03164141625165939, 0.9900000095367432]"
      ]
     },
     "execution_count": 160,
     "metadata": {},
     "output_type": "execute_result"
    }
   ],
   "source": [
    "# Evaluting THIS model on X_test\n",
    "model.evaluate(X_test.reshape(-1,28,28,1)/255.0, tf.keras.utils.to_categorical(y_test))"
   ]
  },
  {
   "cell_type": "code",
   "execution_count": 159,
   "metadata": {},
   "outputs": [
    {
     "name": "stdout",
     "output_type": "stream",
     "text": [
      "88/88 [==============================] - 0s 5ms/step - loss: 0.0344 - accuracy: 0.9907\n"
     ]
    },
    {
     "data": {
      "text/plain": [
       "[0.03440588712692261, 0.9907143115997314]"
      ]
     },
     "execution_count": 159,
     "metadata": {},
     "output_type": "execute_result"
    }
   ],
   "source": [
    "# Evaluting SAVED model on X_test to check if there any problem with model and saved_model\n",
    "saved_model.evaluate(X_test.reshape(-1,28,28,1)/255.0, tf.keras.utils.to_categorical(y_test))"
   ]
  },
  {
   "cell_type": "markdown",
   "metadata": {},
   "source": [
    "># Test On my own image created by MS-Paint"
   ]
  },
  {
   "cell_type": "code",
   "execution_count": 246,
   "metadata": {},
   "outputs": [],
   "source": [
    "# convert any image to MNIST type image\n",
    "from PIL import Image,ImageFilter\n",
    "def prepare(img_loc):\n",
    "    '''Take a png file and return an array'''\n",
    "    im = Image.open(img_loc).convert('L')\n",
    "    width = float(im.size[0])\n",
    "    height = float(im.size[1])\n",
    "    newImg = Image.new('L', (28,28), (255)) #crete white canvas of 28x28\n",
    "    \n",
    "    if width>height:  # if width bigger then convert it to 20\n",
    "        nheight = int(round((24.0 / width*height),0)) #resize height with width ratio\n",
    "        if(nheight==0):\n",
    "            nheight=1\n",
    "        img = im.resize((24,nheight), Image.ANTIALIAS).filter(ImageFilter.SHARPEN)\n",
    "        wtop = int(round(((28 - nheight) / 2), 0)) #create horizontal position\n",
    "        newImg.paste(img, (2,wtop))\n",
    "    else:\n",
    "        nwidth = int(round((24.0 / height * width),0)) #resize width with height ratio\n",
    "        if(nwidth==0):\n",
    "            nwidth=1\n",
    "        img = im.resize((24,nwidth), Image.ANTIALIAS).filter(ImageFilter.SHARPEN)\n",
    "        hleft = int(round(((28 - nwidth) / 2), 0)) #create vertical position\n",
    "        newImg.paste(img, (2,hleft))\n",
    "        \n",
    "    tv=list(newImg.getdata()) #getting pixel value\n",
    "    tv_norm = [(255 - x) / 255.0 for x in tv]\n",
    "    return tv_norm\n"
   ]
  },
  {
   "cell_type": "code",
   "execution_count": 253,
   "metadata": {},
   "outputs": [
    {
     "name": "stdout",
     "output_type": "stream",
     "text": [
      "Actual Image:\n"
     ]
    },
    {
     "data": {
      "image/png": "[encoded data removed]",
      "text/plain": [
       "<Figure size 432x288 with 1 Axes>"
      ]
     },
     "metadata": {
      "needs_background": "light"
     },
     "output_type": "display_data"
    },
    {
     "name": "stdout",
     "output_type": "stream",
     "text": [
      "From Saved Model :  7\n",
      "From Model : 7\n"
     ]
    }
   ],
   "source": [
    "# testing the image\n",
    "imgArr = np.array(prepare('0.png')).reshape(1,28,28,1)\n",
    "\n",
    "print('Actual Image:')\n",
    "plt.imshow(imgArr.reshape(28,28), cmap=plt.cm.binary)\n",
    "plt.axis('off')\n",
    "plt.show()\n",
    "\n",
    "print('From Saved Model : ',np.argmax(saved_model.predict(imgArr)))\n",
    "print('From Model :', np.argmax(model.predict(imgArr)))"
   ]
  },
  {
   "cell_type": "markdown",
   "metadata": {},
   "source": [
    "# Thank You "
   ]
  },
  {
   "cell_type": "markdown",
   "metadata": {},
   "source": [
    "See what conv2D layers get :"
   ]
  },
  {
   "cell_type": "code",
   "execution_count": 16,
   "metadata": {
    "collapsed": true
   },
   "outputs": [
    {
     "data": {
      "image/png": "[encoded data removed]",
      "text/plain": [
       "<Figure size 432x288 with 25 Axes>"
      ]
     },
     "metadata": {},
     "output_type": "display_data"
    },
    {
     "data": {
      "image/png": "[encoded data removed]",
      "text/plain": [
       "<Figure size 432x288 with 25 Axes>"
      ]
     },
     "metadata": {},
     "output_type": "display_data"
    },
    {
     "data": {
      "image/png": "[encoded data removed]",
      "text/plain": [
       "<Figure size 432x288 with 25 Axes>"
      ]
     },
     "metadata": {},
     "output_type": "display_data"
    }
   ],
   "source": [
    "idx=[0,2,4]\n",
    "outputs = [saved_model.layers[i].output for i in idx]\n",
    "model = tf.keras.models.Model(inputs=saved_model.inputs, outputs=outputs)\n",
    "\n",
    "# Loading The image array\n",
    "img = X_test[1].reshape(1,28,28,1)\n",
    "feature_maps = model.predict(img/255.0)\n",
    "\n",
    "# plotting the output\n",
    "sq=5\n",
    "for fmap in feature_maps:\n",
    "    ix=1\n",
    "    for _ in range(sq):\n",
    "        for _ in range(sq):\n",
    "            ax = plt.subplot(sq,sq,ix)\n",
    "            ax.set_xticks([])\n",
    "            ax.set_yticks([])\n",
    "            plt.imshow(fmap[0,:,:,ix-1], cmap='gray')\n",
    "            ix+=1\n",
    "    plt.show()"
   ]
  },
  {
   "cell_type": "code",
   "execution_count": null,
   "metadata": {},
   "outputs": [],
   "source": []
  }
 ],
 "metadata": {
  "kernelspec": {
   "display_name": "Python 3",
   "language": "python",
   "name": "python3"
  },
  "language_info": {
   "codemirror_mode": {
    "name": "ipython",
    "version": 3
   },
   "file_extension": ".py",
   "mimetype": "text/x-python",
   "name": "python",
   "nbconvert_exporter": "python",
   "pygments_lexer": "ipython3",
   "version": "3.8.1"
  }
 },
 "nbformat": 4,
 "nbformat_minor": 4
}
